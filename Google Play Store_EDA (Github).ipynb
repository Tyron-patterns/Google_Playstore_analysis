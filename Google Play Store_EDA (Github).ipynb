{
 "cells": [
  {
   "cell_type": "markdown",
   "id": "4c3c5d79-9cb4-498f-802e-ed4a3a45e61d",
   "metadata": {},
   "source": [
    "# WORK IN PROGRESS"
   ]
  },
  {
   "cell_type": "code",
   "execution_count": null,
   "id": "8a26888e-e401-45b9-a5e4-ad0a571bedb1",
   "metadata": {},
   "outputs": [],
   "source": [
    "df_copy.to_csv('data_google_playstore_cleaned.csv')"
   ]
  },
  {
   "cell_type": "markdown",
   "id": "a982c6cf-4318-416e-b3ce-94bbb7b6e794",
   "metadata": {},
   "source": [
    "🔷🔷🔷🔷🔷🔷🔷🔷🔷🔷🔷🔷🔷🔷🔷🔷🔷🔷🔷🔷🔷🔷🔷🔷🔷🔷🔷🔷🔷🔷🔷🔷🔷🔷🔷🔷🔷🔷🔷🔷🔷🔷🔷🔷🔷🔷🔷🔷🔷🔷🔷🔷🔷🔷🔷🔷🔷🔷🔷🔷🔷🔷🔷🔷🔷🔷🔷🔷🔷🔷🔷🔷🔷🔷🔷🔷🔷🔷\n",
    "🔷🔷🔷🔷🔷🔷🔷🔷🔷🔷🔷🔷🔷🔷🔷🔷🔷🔷🔷🔷🔷🔷🔷🔷🔷🔷🔷🔷🔷🔷🔷🔷🔷🔷🔷🔷🔷🔷🔷🔷🔷🔷🔷🔷🔷🔷🔷🔷🔷🔷🔷🔷🔷🔷🔷🔷🔷🔷🔷🔷🔷🔷🔷🔷🔷🔷🔷🔷🔷🔷🔷🔷🔷🔷🔷🔷🔷🔷\n",
    "🔷🔷🔷🔷🔷🔷🔷🔷🔷🔷🔷🔷🔷🔷🔷🔷🔷🔷🔷🔷🔷🔷🔷🔷🔷🔷🔷🔷🔷🔷🔷🔷🔷🔷🔷🔷🔷🔷🔷🔷🔷🔷🔷🔷🔷🔷🔷🔷🔷🔷🔷🔷🔷🔷🔷🔷🔷🔷🔷🔷🔷🔷🔷🔷🔷🔷🔷🔷🔷🔷🔷🔷🔷🔷🔷🔷🔷🔷\n",
    "# EXPLORATORY DATA ANALYSIS\n",
    "## 1. Handling duplicate App"
   ]
  },
  {
   "cell_type": "code",
   "execution_count": null,
   "id": "a2b6f9a2-d511-4d31-bd8d-888569e1f945",
   "metadata": {},
   "outputs": [],
   "source": [
    "df_copy['App'].duplicated().sum()"
   ]
  },
  {
   "cell_type": "code",
   "execution_count": null,
   "id": "c13a03c1-e686-43bb-9ac8-90a6e7f80f5d",
   "metadata": {},
   "outputs": [],
   "source": [
    "# \n",
    "df_copy[df_copy['App'].duplicated(keep = False)]['App'].value_counts()"
   ]
  },
  {
   "cell_type": "code",
   "execution_count": null,
   "id": "e543e276-0a2a-4391-af2f-fed3be6b1ea2",
   "metadata": {},
   "outputs": [],
   "source": [
    "df_copy[df_copy['App'].duplicated(keep = False)].sort_values(by = 'App').head(5)"
   ]
  },
  {
   "cell_type": "code",
   "execution_count": null,
   "id": "3e669672-9b8a-47f1-98ed-fc7293c2931d",
   "metadata": {},
   "outputs": [],
   "source": [
    "app_counts = df_copy['App'].value_counts()\n",
    "df_copy[df_copy['App'].isin(app_counts[(app_counts > 5) & (app_counts < 7)].index)].sort_values(by='App').head(10)"
   ]
  },
  {
   "cell_type": "code",
   "execution_count": null,
   "id": "86e96ae7-1d12-488d-b7cc-12be0a770ef9",
   "metadata": {},
   "outputs": [],
   "source": [
    "app_counts = df_copy['App'].value_counts()\n",
    "df_copy[df_copy['App'].isin(app_counts[app_counts > 1].index)].shape[0]"
   ]
  },
  {
   "cell_type": "markdown",
   "id": "dda94c5b-5587-4e87-b2f0-24eecffc2a77",
   "metadata": {},
   "source": [
    "#### NOTE - .isin()\n",
    "\n",
    "\n",
    "#### NOTE - .index"
   ]
  },
  {
   "cell_type": "code",
   "execution_count": null,
   "id": "98acf5cf-efe2-4c3a-9730-d458a60b7360",
   "metadata": {},
   "outputs": [],
   "source": [
    "df_copy2 = df_copy.copy()"
   ]
  },
  {
   "cell_type": "code",
   "execution_count": null,
   "id": "d19553ce-6afd-402e-8627-0076837a28ec",
   "metadata": {},
   "outputs": [],
   "source": [
    "df_copy2 = df_copy[df_copy['App'].duplicated(keep = False)]"
   ]
  },
  {
   "cell_type": "code",
   "execution_count": null,
   "id": "e45a91ea-9b49-4b54-8306-e1c8e61734e2",
   "metadata": {},
   "outputs": [],
   "source": [
    "dup_original_set = df_copy['App'].duplicated(keep = False).sum()\n",
    "shape_copy = df_copy2['App'].shape[0]\n",
    "\n",
    "print(f\"Total duplicates original dataset (df_copy): {dup_original_set} \\nTotal records duplicates dataset (df_copy2): {shape_copy}\")"
   ]
  },
  {
   "cell_type": "code",
   "execution_count": null,
   "id": "c1868a26-2ded-4e1e-9d2e-514093735a03",
   "metadata": {},
   "outputs": [],
   "source": [
    "dup_original_set = df_copy['App'].duplicated().sum()\n",
    "dup_copy = df_copy2['App'].duplicated().sum()\n",
    "\n",
    "print(f\"Duplicates original dataset excluding first instance: {dup_original_set} \\nDuplicates in copy dataset excluding first instance: {dup_copy}\")"
   ]
  },
  {
   "cell_type": "code",
   "execution_count": null,
   "id": "5bb8ea27-6ed7-4b5b-b4a7-27f7ee9ede95",
   "metadata": {},
   "outputs": [],
   "source": [
    "df_copy2.shape"
   ]
  },
  {
   "cell_type": "code",
   "execution_count": null,
   "id": "f9723624-75ef-4e16-87af-d00b3cec4d19",
   "metadata": {},
   "outputs": [],
   "source": [
    "df_copy2.groupby('App')['Current Ver'].nunique()"
   ]
  },
  {
   "cell_type": "code",
   "execution_count": null,
   "id": "38fbd9ec-77cb-4e5d-95a2-19df9870c416",
   "metadata": {},
   "outputs": [],
   "source": [
    "unique_ver = df_copy2.groupby('App')['Current Ver'].nunique()\n",
    "\n",
    "different_ver = 0\n",
    "same_ver = 0\n",
    "\n",
    "for i in unique_ver:\n",
    "    \n",
    "    if i > 1:\n",
    "        different_ver+=1   \n",
    "    elif i == 1:\n",
    "        same_ver+=1\n",
    "        \n",
    "print(f\"The amount of apps with different versions is: {different_ver}\")\n",
    "print(f\"The amount of apss with the same version is: {same_ver}\")"
   ]
  },
  {
   "cell_type": "code",
   "execution_count": null,
   "id": "3b35b97d-d23c-4588-b8dc-cbe9792b1486",
   "metadata": {},
   "outputs": [],
   "source": [
    "df_copy2.groupby('App')['Current Ver'].nunique().value_counts()"
   ]
  },
  {
   "cell_type": "code",
   "execution_count": null,
   "id": "ed8530fc-4bf0-4d4f-8d00-a7d47ff98997",
   "metadata": {},
   "outputs": [],
   "source": [
    "df_copy2[df_copy2['App'].isin(unique_ver[unique_ver == 2].index)].sort_values(by = 'App').head(5)"
   ]
  },
  {
   "cell_type": "code",
   "execution_count": null,
   "id": "e2f79d0a-e5c8-4bf4-8e81-ef169da9335f",
   "metadata": {},
   "outputs": [],
   "source": [
    "unique_ver = df_copy2.groupby('App')['Current Ver'].nunique()\n",
    "df_copy2[df_copy2['App'].isin(unique_ver[unique_ver == 2].index)].sort_values(by='App').head(5)"
   ]
  },
  {
   "cell_type": "code",
   "execution_count": null,
   "id": "bfa9dab7-b2fe-42db-8e3e-f6578cd2177d",
   "metadata": {},
   "outputs": [],
   "source": [
    "df_copy2.groupby('App')['Android Ver'].nunique().value_counts()"
   ]
  },
  {
   "cell_type": "code",
   "execution_count": null,
   "id": "7c155e0a-d0c0-41d3-9847-a7db64ca0163",
   "metadata": {},
   "outputs": [],
   "source": [
    "unique_android = df_copy2.groupby('App')['Android Ver'].nunique()\n",
    "df_copy2[df_copy2['App'].isin(unique_android[unique_android == 2].index)].sort_values(by='App').head(5)"
   ]
  },
  {
   "cell_type": "code",
   "execution_count": null,
   "id": "3b2593bd-f775-4193-9090-d11efbfd44da",
   "metadata": {},
   "outputs": [],
   "source": [
    "df_copy2.groupby('App')['Price'].nunique()"
   ]
  },
  {
   "cell_type": "code",
   "execution_count": null,
   "id": "de53e9d1-e664-4f9f-af39-d2bc3e6b5466",
   "metadata": {},
   "outputs": [],
   "source": [
    "df_copy2.groupby('App')['Price'].nunique().value_counts()"
   ]
  },
  {
   "cell_type": "code",
   "execution_count": null,
   "id": "2bb91e54-c560-42c8-b942-7e19e17be560",
   "metadata": {},
   "outputs": [],
   "source": [
    "unique_price = df_copy2.groupby('App')['Price'].nunique()\n",
    "df_copy2[df_copy2['App'].isin(unique_price[unique_price == 2].index)].sort_values(by='App')"
   ]
  },
  {
   "cell_type": "code",
   "execution_count": null,
   "id": "b31b3adf-5fc3-4f17-bfdd-1864a82a5766",
   "metadata": {},
   "outputs": [],
   "source": [
    "df_copy2[\n",
    "    (df_copy2['App'].isin(unique_android[unique_android > 1].index)) |\n",
    "    (df_copy2['App'].isin(unique_ver[unique_ver > 1].index)) |\n",
    "    (df_copy2['App'].isin(unique_price[unique_price > 1].index)) \n",
    "].shape"
   ]
  },
  {
   "cell_type": "code",
   "execution_count": null,
   "id": "3b8aa3bd-2e8a-461e-a180-8dc6cf474597",
   "metadata": {},
   "outputs": [],
   "source": [
    "df_copy2[\n",
    "    (df_copy2['App'].isin(unique_android[unique_android > 1].index)) |\n",
    "    (df_copy2['App'].isin(unique_ver[unique_ver > 1].index)) |\n",
    "    (df_copy2['App'].isin(unique_price[unique_price > 1].index)) \n",
    "].sort_values(by = 'App').head(5)\n"
   ]
  },
  {
   "cell_type": "code",
   "execution_count": null,
   "id": "b538b5cb-59d1-43fc-b650-baba9c662a7a",
   "metadata": {},
   "outputs": [],
   "source": [
    "df_copy2['Price'] = df_copy2['Price'].astype(str).str.strip()\n",
    "df_copy2['Current Ver'] = df_copy2['Current Ver'].astype(str).str.strip()\n",
    "df_copy2['Android Ver'] = df_copy2['Android Ver'].astype(str).str.strip()\n",
    "\n",
    "\n",
    "problematic_apps = df_copy2[\n",
    "    (df_copy2['App'].isin(unique_android[unique_android > 1].index)) |\n",
    "    (df_copy2['App'].isin(unique_ver[unique_ver > 1].index)) |\n",
    "    (df_copy2['App'].isin(unique_price[unique_price > 1].index)) \n",
    "]\n",
    "app_counter = problematic_apps.groupby('App').cumcount()\n",
    "\n",
    "\n",
    "\n",
    "df_copy2.loc[problematic_apps.index, 'App'] = np.where(\n",
    "    app_counter == 0, problematic_apps['App'], \n",
    "    problematic_apps['App'] + '(' + app_counter.astype(str) + ')'\n",
    ")\n",
    "\n",
    "df_copy2[(df_copy2['App'].str.endswith('(1)')) |\n",
    "          (df_copy2['App'].str.endswith('(2)')) |\n",
    "           (df_copy2['App'].str.endswith('(3)'))  ].sort_values(by = 'App')"
   ]
  },
  {
   "cell_type": "code",
   "execution_count": null,
   "id": "d676f608-8c43-481f-83b1-e32428195428",
   "metadata": {},
   "outputs": [],
   "source": [
    "unique_row = []\n",
    "\n",
    "for row in df_copy2['App']:\n",
    "    for num in range(1,10):\n",
    "        \n",
    "        if row.endswith('(' + str(num) + ')'):\n",
    "            unique_row.append(True)\n",
    "            break\n",
    "    else:\n",
    "        unique_row.append(False)\n",
    "            \n",
    "df_copy2_filtered = df_copy2[unique_row]\n",
    "df_copy2_filtered.shape\n",
    "            \n",
    "            "
   ]
  },
  {
   "cell_type": "code",
   "execution_count": null,
   "id": "d2788f25-cb9d-4241-b99c-d463228a6afa",
   "metadata": {},
   "outputs": [],
   "source": [
    "import re\n",
    "\n",
    "df_copy2_filtered = df_copy2[df_copy2['App'].str.contains(r'\\(\\d+\\)$')]\n",
    "df_copy2_filtered.shape[0]"
   ]
  },
  {
   "cell_type": "code",
   "execution_count": null,
   "id": "bf06393e-15e1-477c-bcf1-025ea95d165f",
   "metadata": {},
   "outputs": [],
   "source": [
    "df_copy2_filtered = df_copy2[~df_copy2['App'].str.contains(r'\\(\\d+\\)$')]\n",
    "df_copy2_filtered.shape[0]"
   ]
  },
  {
   "cell_type": "code",
   "execution_count": null,
   "id": "715807df-fdc2-43fc-bb27-e4ee97c8347e",
   "metadata": {},
   "outputs": [],
   "source": [
    "# Step 1: Extract base app names from renamed entries (those ending with (n))\n",
    "renamed_apps = df_copy2['App'][df_copy2['App'].str.contains(r'\\(\\d+\\)$')]\n",
    "base_names = renamed_apps.str.replace(r'\\(\\d+\\)$', '', regex=True).unique()\n",
    "\n",
    "# Step 2: Count how many of these base names appear exactly in the dataset\n",
    "first_instances = df_copy2[df_copy2['App'].isin(base_names)]\n",
    "\n",
    "# Step 3: Optional - check how many of these first instances exist\n",
    "print(f\"Number of original first instances: {first_instances.shape[0]}\")\n"
   ]
  },
  {
   "cell_type": "code",
   "execution_count": null,
   "id": "d9a76393-7aaf-4f37-af08-4d626607d545",
   "metadata": {},
   "outputs": [],
   "source": [
    "(df_copy2['App'].duplicated(keep = False).sum(),df_copy2['App'].duplicated().sum())"
   ]
  },
  {
   "cell_type": "markdown",
   "id": "bbb5176a-66f4-43c0-95dd-7448a68aac98",
   "metadata": {},
   "source": [
    "#### NOTE - cumcount() (pandas)\n",
    ".cumcount() is always used after .groupby()  and it returns the position (starting from 0) of each row within its group.\n",
    "It numbers the rows inside each group."
   ]
  },
  {
   "cell_type": "code",
   "execution_count": null,
   "id": "8d01c37d-c7d9-4b77-b95a-f11c3c43fb7c",
   "metadata": {},
   "outputs": [],
   "source": [
    "# df_copy2 = df_copy2.groupby('App').agg({\n",
    "#     'Reviews': 'mean',\n",
    "#     'Rating': 'mean',\n",
    "#     'Size': 'mean',\n",
    "#     'Category': lambda x: x.mode().iloc[0]\n",
    "# }).reset_index()"
   ]
  },
  {
   "cell_type": "code",
   "execution_count": null,
   "id": "95f623ff-205c-4a63-9f25-c305a50828f6",
   "metadata": {},
   "outputs": [],
   "source": [
    "df_copy2.duplicated(keep = False).sum()"
   ]
  },
  {
   "cell_type": "code",
   "execution_count": null,
   "id": "47b6b0a6-a17e-4f83-913e-2564f88484bf",
   "metadata": {},
   "outputs": [],
   "source": [
    "df_copy2.shape"
   ]
  },
  {
   "cell_type": "code",
   "execution_count": null,
   "id": "bce67158-a993-48ca-b820-0896bfe4ad74",
   "metadata": {},
   "outputs": [],
   "source": [
    "df_copy2"
   ]
  },
  {
   "cell_type": "markdown",
   "id": "d064d909-d511-4aca-b25e-9bfa4f192f10",
   "metadata": {},
   "source": [
    "#### NOTE - previous code\n",
    "\n",
    "🔸 df.groupby('App')\n",
    "This groups data by the 'App' column. That means all rows with the same app name are grouped together to apply calculations per app.\n",
    "\n",
    "🔸 .agg({ ... })\n",
    "This applies aggregation functions to each column within each group, telling Pandas what to calculate for each column. for example: \n",
    "- 'Reviews': 'mean' → Average number of reviews for each app\n",
    "- 'Category': lambda x: x.mode().iloc[0] → Most frequent (mode) category for each app\n",
    "\n",
    "🔸 lambda x: x.mode().iloc[0]\n",
    "This custom function:\n",
    "- x is the series of category values in each app group.\n",
    "- .mode() returns the most frequent value(s) (can be more than one).\n",
    "- .iloc[0] picks the first mode, just in case there's a tie.\n",
    "\n",
    "🔸 .reset_index()\n",
    "After grouping, the 'App' column becomes the index.\n",
    ".reset_index() turns it back into a normal column, making the DataFrame clean and easier to work with.\n",
    "\n",
    "#### NOTE\n",
    "This approach doesn't return the desire outcome as it truncate the number of columns to those requested: it basically creates a new dataframe with only the selected columns\n"
   ]
  },
  {
   "cell_type": "code",
   "execution_count": null,
   "id": "fcbfb307-d624-4a52-9e63-e0826f618b34",
   "metadata": {},
   "outputs": [],
   "source": [
    "# 1. Fill in the mean and mode values of the related features (e.g. Reviews) across all rows per 'App'\n",
    "df_copy2['Reviews'] = df_copy2.groupby('App')['Reviews'].transform('mean')\n",
    "df_copy2['Size']    = df_copy2.groupby('App')['Size'].transform('mean')\n",
    "df_copy2['Rating']  = df_copy2.groupby('App')['Rating'].transform('mean')\n",
    "df_copy2['Category'] = df_copy2.groupby('App')['Category'].transform(lambda x: x.mode().iloc[0])\n"
   ]
  },
  {
   "cell_type": "code",
   "execution_count": null,
   "id": "bf0d0a10-380a-478b-894a-6ec03c9d3ba9",
   "metadata": {},
   "outputs": [],
   "source": [
    "df_copy2[(\n",
    "    (df_copy2['App'].duplicated(keep = False)) & (df_copy2['Reviews'].duplicated(keep = False)) &\n",
    "    df_copy2['Size'].duplicated(keep = False)) & (df_copy2['Rating'].duplicated(keep = False)) &\n",
    "    (df_copy2['Category'].duplicated(keep = False))].shape[0]"
   ]
  },
  {
   "cell_type": "markdown",
   "id": "3e9d2ab6-2200-4ded-a204-cb038f970bc0",
   "metadata": {},
   "source": [
    "#### NOTE - .transform()\n"
   ]
  },
  {
   "cell_type": "code",
   "execution_count": null,
   "id": "6e670e20-a832-4b26-aff7-bd28f5fbc616",
   "metadata": {},
   "outputs": [],
   "source": [
    "df_copy3 = df_copy.copy()"
   ]
  },
  {
   "cell_type": "code",
   "execution_count": null,
   "id": "7a63160a-0678-45c1-82ca-66b26ac90827",
   "metadata": {},
   "outputs": [],
   "source": [
    "df_copy2.duplicated().sum()"
   ]
  },
  {
   "cell_type": "code",
   "execution_count": null,
   "id": "5e6afb5b-e5e9-4e8d-9bd4-f347446250d6",
   "metadata": {},
   "outputs": [],
   "source": [
    "df_copy2.duplicated(keep = False).sum()"
   ]
  },
  {
   "cell_type": "code",
   "execution_count": null,
   "id": "034175b0-83c9-4ef3-9b9b-54703495c567",
   "metadata": {},
   "outputs": [],
   "source": [
    "df_copy2 = df_copy2.drop_duplicates(subset = 'App', keep = 'first')"
   ]
  },
  {
   "cell_type": "code",
   "execution_count": null,
   "id": "314001f6-f0b6-430c-b13f-f8cd0c316982",
   "metadata": {},
   "outputs": [],
   "source": [
    "df_copy2.shape"
   ]
  },
  {
   "cell_type": "code",
   "execution_count": null,
   "id": "a99ed53e-4da0-4f8a-9ab1-b5bda76b5e57",
   "metadata": {},
   "outputs": [],
   "source": [
    "df_copy3.shape"
   ]
  },
  {
   "cell_type": "code",
   "execution_count": null,
   "id": "67a81880-de4e-4d96-998e-c76192a54abb",
   "metadata": {},
   "outputs": [],
   "source": [
    "df_copy3['App'].duplicated(keep = False).sum()"
   ]
  },
  {
   "cell_type": "code",
   "execution_count": null,
   "id": "21cd458d-6ca2-4042-8d07-93e3ed058344",
   "metadata": {},
   "outputs": [],
   "source": [
    "df_copy3 = df_copy3.drop_duplicates(subset='App', keep=False)\n",
    "\n",
    "df_copy3.duplicated().sum()"
   ]
  },
  {
   "cell_type": "code",
   "execution_count": null,
   "id": "ac5c818e-8ecd-4a59-a5cc-6f5c2a6b10c8",
   "metadata": {},
   "outputs": [],
   "source": [
    "df_copy3.shape"
   ]
  },
  {
   "cell_type": "code",
   "execution_count": null,
   "id": "cff6b1db-a5f2-487b-9310-d97d178dd0b3",
   "metadata": {},
   "outputs": [],
   "source": [
    "df_copy3 = pd.concat([df_copy3,df_copy2],axis = 0)"
   ]
  },
  {
   "cell_type": "code",
   "execution_count": null,
   "id": "85f70aca-87b3-45df-a875-906ad88e0035",
   "metadata": {},
   "outputs": [],
   "source": [
    "df_copy3.shape"
   ]
  },
  {
   "cell_type": "code",
   "execution_count": null,
   "id": "78c1efa4-61fc-45f4-891f-3d5fc2390669",
   "metadata": {},
   "outputs": [],
   "source": [
    "df_copy3.duplicated(subset = 'App').sum()"
   ]
  },
  {
   "cell_type": "markdown",
   "id": "a9836357-c2e6-4d89-ae9d-41324dcab7b3",
   "metadata": {},
   "source": [
    "🔷🔷🔷🔷🔷🔷🔷🔷🔷🔷🔷🔷🔷🔷🔷🔷🔷🔷🔷🔷🔷🔷🔷🔷🔷🔷🔷🔷🔷🔷🔷🔷🔷🔷🔷🔷🔷🔷🔷🔷🔷🔷🔷🔷🔷🔷🔷🔷🔷🔷🔷🔷🔷🔷🔷🔷🔷🔷🔷🔷🔷🔷🔷🔷🔷🔷🔷🔷🔷🔷🔷🔷🔷🔷🔷🔷🔷🔷"
   ]
  },
  {
   "cell_type": "code",
   "execution_count": null,
   "id": "e26cbf49-d58a-4066-88fe-645c4904467c",
   "metadata": {},
   "outputs": [],
   "source": [
    "df[df.duplicated('App')].shape"
   ]
  },
  {
   "cell_type": "markdown",
   "id": "13ee2dc0-7c9a-49ea-ad68-89d1ba630965",
   "metadata": {},
   "source": [
    "## Insights - duplicate App\n",
    "there are duplicate records than can be dropped"
   ]
  },
  {
   "cell_type": "code",
   "execution_count": null,
   "id": "eb32d8c9-04ef-4119-bc79-3d7776861eff",
   "metadata": {},
   "outputs": [],
   "source": [
    "#We are now going to .drop_duplicates() and keep only the first record of every duplicate\n",
    "df_copy = df_copy.drop_duplicates(subset=['App'], keep = 'first')"
   ]
  },
  {
   "cell_type": "code",
   "execution_count": null,
   "id": "fdb11003-fc81-4586-944d-453013107210",
   "metadata": {},
   "outputs": [],
   "source": [
    "df_copy.shape"
   ]
  },
  {
   "cell_type": "markdown",
   "id": "3ee99dcf-d49b-43b5-a6d5-b32215eaa140",
   "metadata": {},
   "source": [
    "as we can see, from 10840 entries per 16 columns in in df_copy, we now dropped those 1181 duplicates"
   ]
  },
  {
   "cell_type": "markdown",
   "id": "257f557a-0952-496f-bddd-92965b0a0a7a",
   "metadata": {},
   "source": [
    "🔷🔷🔷🔷🔷🔷🔷🔷🔷🔷🔷🔷🔷🔷🔷🔷🔷🔷🔷🔷🔷🔷🔷🔷🔷🔷🔷🔷🔷🔷🔷🔷🔷🔷🔷🔷🔷🔷🔷🔷🔷🔷🔷🔷🔷🔷🔷🔷🔷🔷🔷🔷🔷🔷🔷🔷🔷🔷🔷🔷🔷🔷🔷🔷🔷🔷🔷🔷🔷🔷🔷🔷🔷🔷🔷🔷🔷🔷\n",
    "🔷🔷🔷🔷🔷🔷🔷🔷🔷🔷🔷🔷🔷🔷🔷🔷🔷🔷🔷🔷🔷🔷🔷🔷🔷🔷🔷🔷🔷🔷🔷🔷🔷🔷🔷🔷🔷🔷🔷🔷🔷🔷🔷🔷🔷🔷🔷🔷🔷🔷🔷🔷🔷🔷🔷🔷🔷🔷🔷🔷🔷🔷🔷🔷🔷🔷🔷🔷🔷🔷🔷🔷🔷🔷🔷🔷🔷🔷"
   ]
  },
  {
   "cell_type": "markdown",
   "id": "33a7b1d3-00cb-4aaf-909c-26df1121a805",
   "metadata": {},
   "source": [
    "## 2. Handling null Rating\n",
    "As Mentioned in the data cleaning section (3. IDENTIFYING AND HANDLING MISSING VALUES), the Feature Rating contains a non-negligible amount of null values.  \n",
    "In this section, said null values will be handled thourgh statistic and imputation methods to improve the integrity of the dataset.\n",
    "\n",
    "The statistical test that we'll be used here are the **Chi square** to compare Reviews with categorical features and **T-test** or **ANOVA** to compare it to numerical features\n",
    "\n",
    "1. **Chi square hypotesis:**\n",
    "- Null hypothesis (H₀): the two features are independent -> no association between the feature and the missingness.\n",
    "- Alternative hypothesis (H₁): the features are dependent -> there is association between the feature and the missingness.\n",
    "   \n",
    "2. **T-test hypothesis:**\n",
    "- Null hypothesis (H₀): the missingness (in Rating) is independent of the feature → no association\n",
    "- Alternative hypothesis (H₁): the missingness (in Rating) is dependent on the feature → there is association\n",
    "\n",
    "For both tests, a p-value > 0.05 indicates failure to reject the null hypothesis, meaning there is association between the features. On the contrary, p-value < 0.05 indicates acceptance of the null hypothesis, or rejection of alternative hypothesis, meaning that there's no association"
   ]
  },
  {
   "cell_type": "code",
   "execution_count": null,
   "id": "0a635d51-65f6-498f-98ad-7bd25888fc86",
   "metadata": {},
   "outputs": [],
   "source": [
    "df_copy3['Rating'].isna().sum()"
   ]
  },
  {
   "cell_type": "code",
   "execution_count": null,
   "id": "5d4c6d3e-45ef-458f-b74d-039c1543a887",
   "metadata": {},
   "outputs": [],
   "source": [
    "df_copy3['Rating_missing'] = df_copy3['Rating'].isna().astype(int)"
   ]
  },
  {
   "cell_type": "code",
   "execution_count": null,
   "id": "cd0852fb-96f0-49bd-9356-156a43966970",
   "metadata": {},
   "outputs": [],
   "source": [
    "from scipy.stats import chi2_contingency\n",
    "\n",
    "frequency_table = pd.crosstab(df_copy3['Category'], df_copy3['Rating_missing'])\n",
    "\n",
    "chi2, p, dof, expected = chi2_contingency(frequency_table)  #Chi squared test"
   ]
  },
  {
   "cell_type": "code",
   "execution_count": null,
   "id": "43a37ba2-b543-495b-9285-7e50c1878653",
   "metadata": {},
   "outputs": [],
   "source": [
    "for col in ['App', 'Category', 'Type', 'Content Rating', 'Genres', 'Current Ver', 'Android Ver']:\n",
    "    table = pd.crosstab(df_copy3[col], df_copy3['Rating_missing'])\n",
    "    chi2, p, dof, expected = chi2_contingency(table)\n",
    "    print(f\"{col} p-value = {p}\")\n"
   ]
  },
  {
   "cell_type": "markdown",
   "id": "562ce8b8-772d-4447-a500-35b4ae3ee5b9",
   "metadata": {},
   "source": [
    "#### NOTE - Chi square test\n",
    "1. **df_copy3['Rating_missing'] = df_copy3['Rating'].isna().astype(int)**\n",
    "The method .isna() returns True for missing values and False otherwise.\n",
    "Although Python internally treats True as 1 and False as 0, the data type returned is still bool.\n",
    "Using .astype(int) explicitly converts these Boolean values to integers (1 and 0), which is often necessary for analysis, visualizations, or statistical tests.\n",
    "This allows you to later compute the ratio of missing vs. non-missing values, or to use the flag in models or tests.\n",
    "\n",
    "2. **frequency_table = pd.crosstab(['Category', 'Rating_missing'])**\n",
    "This line creates a frequency (contingency) table to count how many times each combination of values occurs between the two features:\n",
    "- Rows = unique categories from the 'Category' column\n",
    "- Columns = binary values from 'Rating_missing' (0 = not missing, 1 = missing)\n",
    "- The function pd.crosstab() generates this cross-tabulation, which is essential for applying the Chi-Square Test of Independence.\n",
    "\n",
    "3. **chi2, p, dof, expected = chi2_contingency(frequency_table)**\n",
    "**chi2_contingency** The function chi2_contingency() from scipy.stats performs the Chi-Square Test of Independence on the contingency table.\n",
    "- *chi2*: The Chi-Square statistic — a measure of how much the observed values deviate from the expected ones. Larger values mean more difference.\n",
    "- *p*: The p-value tells whether the relationship is statistically significant -> If p < 0.05, missingness depends on Category -> Not MCAR\n",
    "- *dof*: Degrees of freedom for the test: (num_rows - 1) * (num_columns - 1)\n",
    "- *expected*: The expected frequencies under the assumption of independence (i.e., what the counts would look like if there were no relationship between Category and missingness)\n",
    "\n",
    "NOTE - Chi square equation  \n",
    "\n",
    "$$\n",
    "\\chi^2 = \\sum \\frac{(O_i - E_i)^2}{E_i}\n",
    "$$"
   ]
  },
  {
   "cell_type": "code",
   "execution_count": null,
   "id": "a6b7e376-1a4d-4b22-9a8d-f60192157c65",
   "metadata": {},
   "outputs": [],
   "source": [
    "from scipy.stats import ttest_ind\n",
    "\n",
    "numerical_features = ['Reviews', 'Size', 'Installs', 'Price', 'Date', 'Month', 'Year']\n",
    "df_copy3['Price'] = df_copy3['Price'].astype(float)\n",
    "for col in numerical_features:\n",
    "    has_rating = df_copy3[df_copy3['Rating_missing'] == 0][col]\n",
    "    missing_rating = df_copy3[df_copy3['Rating_missing'] == 1][col]\n",
    "\n",
    "    t_stat, p_value = ttest_ind(has_rating, missing_rating, equal_var=False)  # Welch’s t-test\n",
    "    print(f\"{col} p-value = {p_value}\")\n"
   ]
  },
  {
   "cell_type": "markdown",
   "id": "9a578d71-93b1-49a5-a041-ee4b139adaa6",
   "metadata": {},
   "source": [
    "#### NOTE - T test\n",
    "1. **has_rating = df[df['Rating_missing'] == 0]['Reviews']**\n",
    "- This selects all rows where the Rating is present (i.e., Rating_missing == 0)\n",
    "- From those rows, it extracts only the Reviews column\n",
    "- has_rating is a Series of review counts for apps with known ratings\n",
    "\n",
    "**has_rating = df[df['Rating_missing'] == 1]['Reviews']**\n",
    "Same as above, but this time it selects the Reviews for apps where the Rating is missing (Rating_missing == 1)\n",
    "\n",
    "2. **t_stat, p_value = ttest_ind(has_rating, missing_rating, equal_var=False)**\n",
    "- *t_stat* is the t-statistic: a standardized measure of how far apart the two sample means are, relative to the variation in the data.\n",
    "\n",
    "3. **T-test equation**\n",
    "$$\n",
    "t = \\frac{\\bar{X}_1 - \\bar{X}_2}{\\sqrt{\\frac{s_1^2}{n_1} + \\frac{s_2^2}{n_2}}}\n",
    "$$\n",
    "\n",
    "NOTE: T-test compares the mean of one feature between two groups"
   ]
  },
  {
   "cell_type": "markdown",
   "id": "1ee258fd-df51-4650-8be6-71a7e45adf95",
   "metadata": {},
   "source": [
    "## Insights - null Rating\n",
    "Both statistical tests (Chi-Square for categorical features and T-Test for numerical features) show that missingness in the Rating column is dependent on most features — meaning p-values < 0.05 for the majority of them. Only a few features show p > 0.05, suggesting independence\n",
    "\n",
    "- **p < 0.05**\n",
    "Category p-value = 4.56 e-74\n",
    "Type p-value = 8.52 e-05\n",
    "Content Rating: p-value = 1.90 e-10\n",
    "Genres p-value = 3.64 e-56\n",
    "Current Ver p-value = 2.76 e-05\n",
    "Android Ver p-value = 2.87 e-24\n",
    "Reviews p-value = 7.09 e-32\n",
    "Size p-value = nan\n",
    "Installs p-value = 2.57 e-46\n",
    "Date p-value = 0.0049\n",
    "Year p-value = 0.0038\n",
    "\n",
    "- **p > 0.05**\n",
    "App p-value = 0.49\n",
    "Price p-value = 0.39\n",
    "Month p-value = 0.062\n",
    "\n",
    "These results reject the null hypothesis of independence for most features (p < 0.05), meaning there is a significant association between those features and whether a rating is missing.\n",
    "\n",
    "**Therefore, the missingness in the Rating column is not completely at random (not MCAR)**. Since the missingness is explained by other observed features (but not by Rating itself, which we can't test directly), it satisfies the conditions for being considered:\n",
    "\n",
    "**Missing At Random (MAR)**\n",
    "\n",
    "The most appropriate approach is to identify the features most strongly associated with Rating (based on domain knowledge or feature importance) and apply imputation methods based on those features.  \n",
    "This will help preserve the underlying data structure while reducing bias introduced by the missing value\n",
    "\n",
    "**NOTE - why two tests?**\n",
    "Although the initial Chi-Square tests already suggested the missing values in Rating were MAR, the T-Tests were performed as a complementary step to:\n",
    "- Confirm MAR includes numeric features (like Reviews, Price, Size) — this can inform smarter imputation (e.g. conditional on Reviews).\n",
    "- Support transparency in EDA/reporting — you're showing your audience all the tested variables.\n",
    "- Avoid false confidence — what if the missingness didn’t correlate with any categorical features, but strongly correlated with Installs or Price? You’d catch that only via t-test.\n",
    "- Some ML-based imputation techniques (like KNN or regression imputation) perform better when you know what features the missingness depends on.\n",
    "\n",
    "In short: T-tests weren’t run to reconfirm MAR, but to provide a complete and feature-inclusive understanding of what influences missingness in the dataset."
   ]
  },
  {
   "cell_type": "code",
   "execution_count": null,
   "id": "fba54a39-98b7-4b61-ada3-1644f7ba69d1",
   "metadata": {},
   "outputs": [],
   "source": []
  },
  {
   "cell_type": "markdown",
   "id": "71662871-8668-4725-afec-c8d9b0b3f460",
   "metadata": {},
   "source": [
    "### 2.1 Null values imputation\n",
    "In order to perform accurate imputation, it is essential to identify the feature most strongly associated with Rating.\n",
    "This selection should be guided both by statistical evidence and domain-specific reasoning.\n",
    "\n",
    "In this case, Category seems the natural choice as it shows a strong association with Rating, supported by an extremely low p-value (4.56e-74) from the Chi-Square test. Additionally, Category has relatively few unique values, which profduces larger group sizes and makes it easier to analyze the distribution of Rating within each group.\n",
    "Although App would represent the perfect choice given the fact that Rating is logically dependent on such feature, its 1:1 relationship makes it unsuitable for group-based distribution analysis or consistent imputation."
   ]
  },
  {
   "cell_type": "code",
   "execution_count": null,
   "id": "c63e90e6-34df-420e-9ac6-8d23443eacc9",
   "metadata": {},
   "outputs": [],
   "source": [
    "mean = df_copy3.groupby('Category')['Rating'].mean()"
   ]
  },
  {
   "cell_type": "code",
   "execution_count": null,
   "id": "57008111-9a74-4f44-8377-f1ce0b0a09f1",
   "metadata": {},
   "outputs": [],
   "source": [
    "category_rating_num = df_copy3[df_copy3['Rating'].isna()]['Category'].nunique()\n",
    "category_num = df_copy3['Category'].nunique()\n",
    "\n",
    "print(f\"\\033[91mNumber of unique categories where Rating is nan\\033[0m: {category_rating_num}\\n\\n\\033[91mTotal number of unique categories\\033[0m: {category_num}\")"
   ]
  },
  {
   "cell_type": "code",
   "execution_count": null,
   "id": "4d6c6c66-bf22-4ca6-b3e8-72f383b31204",
   "metadata": {},
   "outputs": [],
   "source": [
    "category_rating = sorted(df_copy3[df_copy3['Rating'].isna()]['Category'].unique())\n",
    "category = sorted(df_copy3['Category'].unique())\n",
    "\n",
    "# category_rating = pd.Series(df_copy3[df_copy3['Rating'].isna()]['Category'].unique()).sort_values\n",
    "# category = pd.Series(df_copy3['Category'].unique()).sort_values()\n",
    "\n",
    "print(f\"\\033[91mCategories where Rating is nan:\\033[0m\\n\\n{category_rating}\\n\\n\\n\\033[91mUnique categories:\\033[0m\\n\\n{category}\")"
   ]
  },
  {
   "cell_type": "code",
   "execution_count": null,
   "id": "b48f662e-f713-4276-ba4b-51c52b4eb8ea",
   "metadata": {},
   "outputs": [],
   "source": [
    "df_copy3.groupby('Category')['Rating'].skew()"
   ]
  },
  {
   "cell_type": "code",
   "execution_count": null,
   "id": "85bf015b-fbe6-458f-bef4-500842255592",
   "metadata": {},
   "outputs": [],
   "source": [
    "skewness = df_copy.groupby('Category')['Rating'].agg(lambda x: x.skew())\n",
    "skewed = skewness[abs(skewness) > 1].index.tolist()\n",
    "normal = skewness[abs(skewness) <= 1].index.tolist()\n",
    "\n",
    "# grouped_category = df_copy.groupby('Category')\n",
    "# skewed = []\n",
    "# normal = []\n",
    "\n",
    "# for cat_name, cat_df in grouped_category:\n",
    "#     skew_val = cat_df['Rating'].skew()\n",
    "#     if abs(skew_val) > 1:\n",
    "#         skewed.append(cat_name)\n",
    "#     else:\n",
    "#         normal.append(cat_name)\n",
    "\n",
    "print(f\"\\033[91mCategories where Rating distribution is skewed:\\033[0m\\n\\n{skewed}\\n\\n\\n\\033[91mCategories where Rating distribution is normal:\\033[0m\\n\\n{normal}\")"
   ]
  },
  {
   "cell_type": "code",
   "execution_count": null,
   "id": "80fdb49a-c670-4f7f-b0f5-a8206d039832",
   "metadata": {},
   "outputs": [],
   "source": [
    "df_copy3['Rating']  = df_copy3['Rating'].fillna(df_copy3.groupby('Category')['Rating'].transform('mean'))\n",
    "\n",
    "# df_copy3['Rating'] = np.where(df_copy3['Rating'].isna(), df_copy3.groupby('Category')['Rating'].transform('mean'), df_copy3['Rating'])\n",
    "\n",
    "\n",
    "    "
   ]
  },
  {
   "cell_type": "code",
   "execution_count": null,
   "id": "36d649a8-efb0-42d2-bab3-55a6b95ce3d8",
   "metadata": {},
   "outputs": [],
   "source": [
    "for cat in df_copy3['Category'].unique():\n",
    "    if cat in skewed:\n",
    "        median_val = df_copy3.loc[df_copy3['Category'] == cat, 'Rating'].median()\n",
    "        df_copy3.loc[(df_copy3['Category'] == cat) & (df_copy3['Rating'].isna()), 'Rating'] = median_val\n",
    "    else:\n",
    "        mean_val = df_copy3.loc[df_copy3['Category'] == cat, 'Rating'].mean()\n",
    "        df_copy3.loc[(df_copy3['Category'] == cat) & (df_copy3['Rating'].isna()), 'Rating'] = mean_val\n"
   ]
  },
  {
   "cell_type": "code",
   "execution_count": null,
   "id": "f064c1dd-7112-4f0e-9379-3a7f92cc8dad",
   "metadata": {},
   "outputs": [],
   "source": [
    "mask_skewed = (df_copy3['Rating'].isna()) & (df_copy3['Category'].isin(skewed))\n",
    "df_copy3.loc[mask_skewed, 'Rating'] = df_copy3.groupby('Category')['Rating'].transform('median')[mask_skewed]\n",
    "\n",
    "mask_normal = (df_copy3['Rating'].isna()) & (df_copy3['Category'].isin(normal))\n",
    "df_copy3.loc[mask_normal, 'Rating'] = df_copy3.groupby('Category')['Rating'].transform('mean')[mask_normal]"
   ]
  },
  {
   "cell_type": "code",
   "execution_count": null,
   "id": "a6a238f2-aa6e-41db-822c-cd248be01d33",
   "metadata": {},
   "outputs": [],
   "source": [
    "# First, create a mask for skewed categories\n",
    "skewed_mask = df_copy3['Category'].isin(skewed)\n",
    "\n",
    "# Fill skewed categories with median\n",
    "df_copy3.loc[skewed_mask, 'Rating'] = df_copy3[skewed_mask].groupby('Category')['Rating'].transform(lambda x: x.fillna(x.median()))\n",
    "\n",
    "# Fill normal categories with mean\n",
    "normal_mask = ~skewed_mask\n",
    "df_copy3.loc[normal_mask, 'Rating'] = df_copy3[normal_mask].groupby('Category')['Rating'].transform(lambda x: x.fillna(x.mean()))\n"
   ]
  },
  {
   "cell_type": "markdown",
   "id": "ea8d2e2e-16dc-47f6-9d39-07d184c117ec",
   "metadata": {},
   "source": [
    "## 3. Explore Data "
   ]
  },
  {
   "cell_type": "code",
   "execution_count": null,
   "id": "430a78db-3a1f-4a1f-a63d-1bdfb51028ba",
   "metadata": {},
   "outputs": [],
   "source": [
    "#here we are going to check which columns are numeric and which are categorical\n",
    "numeric_feature = [feature for feature in df_copy.columns if df_copy[feature].dtype != 'O']\n",
    "categorical_feature = [feature for feature in df.columns if df_copy[feature].dtype == 'O']\n",
    "\n",
    "print('We have {} numerical feature: {}'.format(len(numeric_feature), numeric_feature))\n",
    "print('We have {} categorical feature: {}'.format(len(categorical_feature), categorical_feature))\n"
   ]
  },
  {
   "cell_type": "markdown",
   "id": "89b12ddb-8a39-4b66-9645-52725a49578d",
   "metadata": {},
   "source": [
    "The previous line is a list comprehension that generates a list of \"features\" by iterating through all columns in df_copy.columns. For each column (i.e., feature), it checks the data type in the original dataframe df. If the column's data type is not an object (!= 'O'), meaning it's likely numeric, it includes that feature in the list. In this context, 'O' stands for \"object\", which usually indicates string data."
   ]
  },
  {
   "cell_type": "markdown",
   "id": "14993f10-aacd-435f-9ffc-01374671c745",
   "metadata": {},
   "source": [
    "🔷🔷🔷🔷🔷🔷🔷🔷🔷🔷🔷🔷🔷🔷🔷🔷🔷🔷🔷🔷🔷🔷🔷🔷🔷🔷🔷🔷🔷🔷🔷🔷🔷🔷🔷🔷🔷🔷🔷🔷🔷🔷🔷🔷🔷🔷🔷🔷🔷🔷🔷🔷🔷🔷🔷🔷🔷🔷🔷🔷🔷🔷🔷🔷🔷🔷🔷🔷🔷🔷🔷🔷🔷🔷🔷🔷🔷🔷"
   ]
  },
  {
   "cell_type": "code",
   "execution_count": null,
   "id": "59f697dc-3f92-4779-8108-7ff7575f3e9e",
   "metadata": {},
   "outputs": [],
   "source": [
    "numeric_feature = [feature for feature in df_copy.columns if df_copy[feature].dtype != 'O'"
   ]
  },
  {
   "cell_type": "code",
   "execution_count": null,
   "id": "be084040-cc30-4000-a94a-d2d8c11b79c8",
   "metadata": {},
   "outputs": [],
   "source": [
    "df_copy['App'].unique()"
   ]
  },
  {
   "cell_type": "code",
   "execution_count": null,
   "id": "490694fb-39c7-4453-beb7-e8401fe21331",
   "metadata": {},
   "outputs": [],
   "source": [
    "for col in categorical_feature:\n",
    "    print(df[col].value_counts(normalize = True)*100)\n",
    "    print('-----------------------------------')"
   ]
  },
  {
   "cell_type": "markdown",
   "id": "e90c0f2a-93f7-4f47-836e-279c01dac3c7",
   "metadata": {},
   "source": [
    "🔷🔷🔷🔷🔷🔷🔷🔷🔷🔷🔷🔷🔷🔷🔷🔷🔷🔷🔷🔷🔷🔷🔷🔷🔷🔷🔷🔷🔷🔷🔷🔷🔷🔷🔷🔷🔷🔷🔷🔷🔷🔷🔷🔷🔷🔷🔷🔷🔷🔷🔷🔷🔷🔷🔷🔷🔷🔷🔷🔷🔷🔷🔷🔷🔷🔷🔷🔷🔷🔷🔷🔷🔷🔷🔷🔷🔷🔷"
   ]
  },
  {
   "cell_type": "code",
   "execution_count": null,
   "id": "80f20b45-7d4f-4ed4-8f9e-bf56f968d0f8",
   "metadata": {},
   "outputs": [],
   "source": [
    "df[df['App']== 'Coloring book moana']"
   ]
  },
  {
   "cell_type": "markdown",
   "id": "3fc1bdc8-8589-4846-9ebd-afe14f61e092",
   "metadata": {},
   "source": [
    "## 4. Univariate Analysis of Numeric Features"
   ]
  },
  {
   "cell_type": "code",
   "execution_count": null,
   "id": "92b16c4e-2cb9-4ba4-ac09-87b1eb5d95af",
   "metadata": {},
   "outputs": [],
   "source": [
    "plt.figure(figsize = (15,15))\n",
    "plt.suptitle('Univariate Analysis of Numerical Features', fontsize = 20, fontweight = 'bold', alpha = 0.8, y = 1.)\n",
    "\n",
    "for i in range(0, len(numeric_feature)):\n",
    "    plt.subplot(5, 3, i+1)\n",
    "    sns.kdeplot(x=df_copy[numeric_feature[i]], shade = True, color = 'r')\n",
    "    plt.xlabel(numeric_feature[i])\n",
    "    plt.tight_layout()\n",
    "plt.show()"
   ]
  },
  {
   "cell_type": "code",
   "execution_count": null,
   "id": "daf29f79-95fc-404e-8a20-b3164cd48477",
   "metadata": {},
   "outputs": [],
   "source": [
    "df_copy.info()"
   ]
  },
  {
   "cell_type": "markdown",
   "id": "a914d50d-9aff-49b6-a324-a0ac91b2ba6d",
   "metadata": {},
   "source": [
    "🔷🔷🔷🔷🔷🔷🔷🔷🔷🔷🔷🔷🔷🔷🔷🔷🔷🔷🔷🔷🔷🔷🔷🔷🔷🔷🔷🔷🔷🔷🔷🔷🔷🔷🔷🔷🔷🔷🔷🔷🔷🔷🔷🔷🔷🔷🔷🔷🔷🔷🔷🔷🔷🔷🔷🔷🔷🔷🔷🔷🔷🔷🔷🔷🔷🔷🔷🔷🔷🔷🔷🔷🔷🔷🔷🔷🔷🔷"
   ]
  },
  {
   "cell_type": "code",
   "execution_count": null,
   "id": "a4fd23da-4f1d-460e-bdad-1c1e22252099",
   "metadata": {},
   "outputs": [],
   "source": [
    "df_copy['Rating'].describe()"
   ]
  },
  {
   "cell_type": "code",
   "execution_count": null,
   "id": "7e5c0f96-d7c3-42ed-afa7-2201948b98a9",
   "metadata": {},
   "outputs": [],
   "source": [
    "df_copy[['Rating']].mode()"
   ]
  },
  {
   "cell_type": "markdown",
   "id": "6058f362-47ad-473d-965a-dfbe698988e0",
   "metadata": {},
   "source": [
    "🔷🔷🔷🔷🔷🔷🔷🔷🔷🔷🔷🔷🔷🔷🔷🔷🔷🔷🔷🔷🔷🔷🔷🔷🔷🔷🔷🔷🔷🔷🔷🔷🔷🔷🔷🔷🔷🔷🔷🔷🔷🔷🔷🔷🔷🔷🔷🔷🔷🔷🔷🔷🔷🔷🔷🔷🔷🔷🔷🔷🔷🔷🔷🔷🔷🔷🔷🔷🔷🔷🔷🔷🔷🔷🔷🔷🔷🔷"
   ]
  },
  {
   "cell_type": "code",
   "execution_count": null,
   "id": "3c10e207-29d5-4632-8207-b045dbcb1286",
   "metadata": {},
   "outputs": [],
   "source": [
    "df_copy[['Size']].describe()"
   ]
  },
  {
   "cell_type": "code",
   "execution_count": null,
   "id": "bc012187-9713-4b0d-802a-4c10d9962f93",
   "metadata": {},
   "outputs": [],
   "source": [
    "df_copy[['Size']].mode()"
   ]
  },
  {
   "cell_type": "markdown",
   "id": "3dc97797-a4e4-43f3-a31f-9e2b57e3a8d2",
   "metadata": {},
   "source": [
    "🔷🔷🔷🔷🔷🔷🔷🔷🔷🔷🔷🔷🔷🔷🔷🔷🔷🔷🔷🔷🔷🔷🔷🔷🔷🔷🔷🔷🔷🔷🔷🔷🔷🔷🔷🔷🔷🔷🔷🔷🔷🔷🔷🔷🔷🔷🔷🔷🔷🔷🔷🔷🔷🔷🔷🔷🔷🔷🔷🔷🔷🔷🔷🔷🔷🔷🔷🔷🔷🔷🔷🔷🔷🔷🔷🔷🔷🔷"
   ]
  },
  {
   "cell_type": "code",
   "execution_count": null,
   "id": "9f43de9c-15cf-483e-baa0-a5f1a90f07d1",
   "metadata": {},
   "outputs": [],
   "source": [
    "df_copy['Installs'].describe()"
   ]
  },
  {
   "cell_type": "code",
   "execution_count": null,
   "id": "c8dcbe70-91ba-4d36-b856-591b8b4f24ac",
   "metadata": {},
   "outputs": [],
   "source": [
    "df_copy[['Installs']].mode()"
   ]
  },
  {
   "cell_type": "markdown",
   "id": "c67c5f8c-88e7-46d8-a23a-c4298e56b298",
   "metadata": {},
   "source": [
    "🔷🔷🔷🔷🔷🔷🔷🔷🔷🔷🔷🔷🔷🔷🔷🔷🔷🔷🔷🔷🔷🔷🔷🔷🔷🔷🔷🔷🔷🔷🔷🔷🔷🔷🔷🔷🔷🔷🔷🔷🔷🔷🔷🔷🔷🔷🔷🔷🔷🔷🔷🔷🔷🔷🔷🔷🔷🔷🔷🔷🔷🔷🔷🔷🔷🔷🔷🔷🔷🔷🔷🔷🔷🔷🔷🔷🔷🔷"
   ]
  },
  {
   "cell_type": "code",
   "execution_count": null,
   "id": "4b4dc142-b00a-4eb0-9e75-4194f45291f9",
   "metadata": {},
   "outputs": [],
   "source": [
    "df_copy[['Year', 'Month']].min()"
   ]
  },
  {
   "cell_type": "code",
   "execution_count": null,
   "id": "9e45fbcc-e27f-4f58-8d13-81d86597730c",
   "metadata": {},
   "outputs": [],
   "source": [
    "df_copy[['Last Updated']].describe()"
   ]
  },
  {
   "cell_type": "code",
   "execution_count": null,
   "id": "3f3610a3-ceeb-4178-9bd4-54bba93ec912",
   "metadata": {},
   "outputs": [],
   "source": [
    "df_copy[['Last Updated']].describe()"
   ]
  },
  {
   "cell_type": "code",
   "execution_count": null,
   "id": "cafe2093-08f8-4e6a-a6a3-c0714a2e7eba",
   "metadata": {},
   "outputs": [],
   "source": [
    "df_copy[['Last Updated']].mode()"
   ]
  },
  {
   "cell_type": "code",
   "execution_count": null,
   "id": "a789201c-b2bd-4b34-a4ee-8d738c7ed3c9",
   "metadata": {},
   "outputs": [],
   "source": [
    "df_copy['Last Updated'].value_counts().max()"
   ]
  },
  {
   "cell_type": "code",
   "execution_count": null,
   "id": "552cc5bd-ed95-47d0-b8d1-0c6635421b38",
   "metadata": {},
   "outputs": [],
   "source": [
    "mod = df_copy['Last Updated'].mode()[0]\n",
    "df_copy['Last Updated'].value_counts()[mod]"
   ]
  },
  {
   "cell_type": "markdown",
   "id": "3467cf63-58fb-4a78-933d-122f64adda86",
   "metadata": {},
   "source": [
    "### Observations\n",
    "1. Rating: right skewed, meaning that, in general, there are more positive ratings than negative with the most ratings being around 4.3. the median being 4.3 confirms the presence of more positive ratings: if 50% of the ratings are higher or equal than 4.3, it means that 50% of the data are between 4.3 and 5 (which clearly is a shorter range than 0 to 4.3).\n",
    "2. Reviews: the count of Reviews doesn't really make much sense since the data in this category is already a count: the number of reviews is hardly the same across multiple apps, there counting how many reviews are the same is, not only not useful, but also conceptually wrong. the best approach here would be to understand what app, genre, maybe compared to number of downloads or to devices, has the biggest number of reviews\n",
    "3. Size: left skewed, meaning that most apps have a smaller size and the most frequent value here (mode since it's a skewed distribution) is 11000000.0 bytes or 11 MB. This is also confirmed by the median = 12 MB, which is closer to the max = 100 MB than to the min =  0.00000095 MB.\n",
    "4. Installs: similarly to Reviews, this is already a count per app, so counting the single value of this feature is a count of count. It would be better instead to analyze these numbers next to the specific app, the category of the app, in a timeframe and/or per type of device\n",
    "5. Price: distribution is right skewed, which tells us that most of the prices for apps is little. The mode = 0 also confirms that most apps are free and just a couple above 350\n",
    "6. Last Updated: the count of this feature tells us that most apps where update in 2018, which is also the year of the series. This is probably consistent with the incremental access to smart phones and, consequently, the usage of apps. The 5-numbers sumary and the shape (left skewed) of the ditribution for this variable seem to be in line with this hypothesis: in fact 50% of the updates took place after 2018-05-03 with the majority of updates on 2018-08-03 (count of mode for 2018-08-03 = 252), which is almost at the end of the series.  \n",
    "After splitting Last Updated in date, month and year, we can get a better zoom on this variable: the date appear to be somewhat constant with major peaks at the beginning (between the 1st and the 5th) and the end of the month (between the 25th and the 30th); the month(s) with most updates appears to be the 6th, the 7th and the 8th; the years appear to have peaks in 2016, 2017 and 2018, with the last one being extremely higher than the previous two.\n",
    "We can also see that these last variables are mostly affected by the high number of updates in 2018, so previous years could have different date and month of most updates."
   ]
  },
  {
   "cell_type": "markdown",
   "id": "379b4405-8c56-4a24-bbe8-fc06b1cd14a8",
   "metadata": {},
   "source": [
    "🔷🔷🔷🔷🔷🔷🔷🔷🔷🔷🔷🔷🔷🔷🔷🔷🔷🔷🔷🔷🔷🔷🔷🔷🔷🔷🔷🔷🔷🔷🔷🔷🔷🔷🔷🔷🔷🔷🔷🔷🔷🔷🔷🔷🔷🔷🔷🔷🔷🔷🔷🔷🔷🔷🔷🔷🔷🔷🔷🔷🔷🔷🔷🔷🔷🔷🔷🔷🔷🔷🔷🔷🔷🔷🔷🔷🔷🔷"
   ]
  },
  {
   "cell_type": "markdown",
   "id": "71fc7eee-3b26-4a5c-a2a6-4a0caddc4f42",
   "metadata": {},
   "source": [
    "### Univariate Analysis of Categorical features"
   ]
  },
  {
   "cell_type": "code",
   "execution_count": null,
   "id": "ce2efa7b-b5d8-4ee0-9e20-068b45ad3422",
   "metadata": {},
   "outputs": [],
   "source": [
    "df_copy.info()"
   ]
  },
  {
   "cell_type": "code",
   "execution_count": null,
   "id": "2f6d76ec-6018-4e8f-ab38-547645f2966c",
   "metadata": {},
   "outputs": [],
   "source": [
    "df_copy[df_copy['Type'].isnull()]"
   ]
  },
  {
   "cell_type": "code",
   "execution_count": null,
   "id": "9c90eb0e-4a65-49a7-971c-0577a75943a2",
   "metadata": {},
   "outputs": [],
   "source": [
    "(df['Type'].map(type) == str).value_counts()"
   ]
  },
  {
   "cell_type": "code",
   "execution_count": null,
   "id": "f65f6a45-b1a7-4d2e-8c52-bcfa4d8bb49a",
   "metadata": {},
   "outputs": [],
   "source": [
    "(df['Type'].map(type) == str).all()"
   ]
  },
  {
   "cell_type": "code",
   "execution_count": null,
   "id": "d620cfde-a38c-40e6-939c-444729682046",
   "metadata": {},
   "outputs": [],
   "source": [
    "df[df['Type'].map(type)!=str]"
   ]
  },
  {
   "cell_type": "code",
   "execution_count": null,
   "id": "dd443213-57e0-4020-ac39-fdc66a22fab1",
   "metadata": {},
   "outputs": [],
   "source": [
    "df_copy.drop(df_copy.index[9148], inplace = True)\n",
    "\n",
    "#or\n",
    "\n",
    "df_copy=df_copy.drop(df_copy.index[9148])"
   ]
  },
  {
   "cell_type": "code",
   "execution_count": null,
   "id": "02abd848-474e-4b4a-ab36-4154c75e9068",
   "metadata": {},
   "outputs": [],
   "source": [
    "(df_copy['Type'].map(type) == str).all()"
   ]
  },
  {
   "cell_type": "code",
   "execution_count": null,
   "id": "f06ea292-536a-4cad-9265-9ddf88ddee86",
   "metadata": {},
   "outputs": [],
   "source": [
    "df_copy['Type'].isnull().sum()"
   ]
  },
  {
   "cell_type": "code",
   "execution_count": null,
   "id": "2f0f0946-29a2-4093-9407-5ae6b3491abf",
   "metadata": {},
   "outputs": [],
   "source": [
    "(df_copy['Type']=='Free').value_counts()"
   ]
  },
  {
   "cell_type": "code",
   "execution_count": null,
   "id": "2d8d5e16-ac5a-41cf-8bdc-10136b449532",
   "metadata": {},
   "outputs": [],
   "source": [
    "df_copy['Type'].value_counts().plot(kind = 'bar', color = ['red','blue'])\n",
    "plt.show()"
   ]
  },
  {
   "cell_type": "code",
   "execution_count": null,
   "id": "68ff90f1-ad2e-4112-bcfa-59f0b3b7d9b1",
   "metadata": {},
   "outputs": [],
   "source": [
    "df_copy['Content Rating'].value_counts().plot(kind = 'bar', color = 'red')\n",
    "plt.show()"
   ]
  },
  {
   "cell_type": "code",
   "execution_count": null,
   "id": "33dde213-4857-46e0-ad7d-7547caa9dd54",
   "metadata": {},
   "outputs": [],
   "source": [
    "#let's merge together the previous two barplots in one plot\n",
    "series = ['Type','Content Rating']\n",
    "\n",
    "plt.figure(figsize = (10,10))\n",
    "for i, col in enumerate(series):\n",
    "    plt.subplot(2,2,i+1)\n",
    "    sns.countplot(x = col, data = df_copy, palette = 'Set2')\n",
    "    plt.xticks(rotation =45)\n",
    "\n",
    "plt.suptitle('Univariate Analysis of Categorical Features')\n",
    "plt.show()"
   ]
  },
  {
   "cell_type": "code",
   "execution_count": null,
   "id": "121e2031-d553-4a95-8ef0-42c162fd97b7",
   "metadata": {},
   "outputs": [],
   "source": [
    "series = ['Type','Content Rating']\n",
    "\n",
    "plt.figure(figsize = (20,10))\n",
    "\n",
    "for col in range(0,len(series)):\n",
    "    plt.subplot(2,2,col+1)\n",
    "    sns.countplot(x = df[series[col]], palette = 'Set2')\n",
    "    plt.xlabel(series[col])\n",
    "    plt.xticks(rotation =45)\n",
    "\n",
    "plt.suptitle('Univariate Analysis of Categorical Features', fontsize=20, fontweight='bold', alpha=0.8, y=1.)\n",
    "plt.tight_layout()   \n",
    "plt.show()"
   ]
  },
  {
   "cell_type": "markdown",
   "id": "61249c17-a80b-4118-94ab-3217e7285853",
   "metadata": {},
   "source": [
    "🔷🔷🔷🔷🔷🔷🔷🔷🔷🔷🔷🔷🔷🔷🔷🔷🔷🔷🔷🔷🔷🔷🔷🔷🔷🔷🔷🔷🔷🔷🔷🔷🔷🔷🔷🔷🔷🔷🔷🔷🔷🔷🔷🔷🔷🔷🔷🔷🔷🔷🔷🔷🔷🔷🔷🔷🔷🔷🔷🔷🔷🔷🔷🔷🔷🔷🔷🔷🔷🔷🔷🔷🔷🔷🔷🔷🔷🔷"
   ]
  },
  {
   "cell_type": "markdown",
   "id": "69147762-87b7-44bb-8c41-3d21103b7c5c",
   "metadata": {},
   "source": [
    "## 5. General Tasks\n",
    "### What are the most common prices for apps"
   ]
  },
  {
   "cell_type": "markdown",
   "id": "0760eff1-6b58-4e16-8257-b93952ea319e",
   "metadata": {},
   "source": [
    "#### 1.Code version "
   ]
  },
  {
   "cell_type": "code",
   "execution_count": null,
   "id": "64733b31-8a60-4233-b31d-ecca953b7a08",
   "metadata": {},
   "outputs": [],
   "source": [
    "df_copy[['Price']].describe()"
   ]
  },
  {
   "cell_type": "code",
   "execution_count": null,
   "id": "e773a266-3fb8-41f4-9f5b-2e66373e88e3",
   "metadata": {},
   "outputs": [],
   "source": [
    "df_copy[['Price']].mode()"
   ]
  },
  {
   "cell_type": "code",
   "execution_count": null,
   "id": "a8fb6447-6810-4f9d-aabc-1aa7e0bdea37",
   "metadata": {},
   "outputs": [],
   "source": [
    "df_copy['Price'].info()"
   ]
  },
  {
   "cell_type": "code",
   "execution_count": null,
   "id": "b6fcda88-1367-4fae-b576-95ac6a9f2f7c",
   "metadata": {},
   "outputs": [],
   "source": [
    "df_copy['Price'].unique()"
   ]
  },
  {
   "cell_type": "code",
   "execution_count": null,
   "id": "aa014edb-988d-4089-8f1d-56da10924b9c",
   "metadata": {},
   "outputs": [],
   "source": [
    "df_copy['Price'].value_counts().sort_index().head(10)"
   ]
  },
  {
   "cell_type": "markdown",
   "id": "c7a7e2f8-1931-4d32-8dda-9f5102881b9d",
   "metadata": {},
   "source": [
    "#### 2. Visual version"
   ]
  },
  {
   "cell_type": "code",
   "execution_count": null,
   "id": "7f9cb90c-af83-4a65-a111-3aacb3cd3a46",
   "metadata": {},
   "outputs": [],
   "source": [
    "bins = range(0, 401, 10)\n",
    "\n",
    "df_copy['Price_bins'] = pd.cut(df_copy['Price'], bins = bins)\n",
    "df_copy['Price_bins'].value_counts().sort_index().sort_values(ascending = False).head(10).plot(kind = 'bar', color='red')\n",
    "\n",
    "plt.xlabel('Price bins = 9.99')\n",
    "plt.ylabel('Total Price per bin') \n",
    "plt.title('Most common ranges for price of apps')\n",
    "plt.show()"
   ]
  },
  {
   "cell_type": "code",
   "execution_count": null,
   "id": "2f158cfe-dd36-4707-a353-831f29c1d24c",
   "metadata": {},
   "outputs": [],
   "source": [
    "paid_prices = df_copy[df_copy['Price'] > 0]\n",
    "categories = paid_prices['Price'].value_counts().sort_index()\n",
    "categories = categories.sort_values(ascending = False).head(10)\n",
    "categories = categories.sort_values()\n",
    "categories.index = categories.index.astype(str) \n",
    "\n",
    "plt.figure(figsize=(15, 6))\n",
    "norm = plt.Normalize(categories.min(), categories.max())\n",
    "colors = cm.coolwarm(norm(categories)) \n",
    "plt.barh(categories.index,categories.values, color = colors)\n",
    "plt.title('Paid App Prices Only')\n",
    "plt.xlabel('Price (€)')\n",
    "plt.ylabel('Number of Apps')\n",
    "plt.xticks(rotation=90)\n",
    "plt.tight_layout()\n",
    "plt.show()\n"
   ]
  },
  {
   "cell_type": "markdown",
   "id": "b3c68446-ffb0-42fb-ae36-525fe82fb96f",
   "metadata": {},
   "source": [
    "Since the categories are numerical, matplotlib will consider them as continuos. In fact, many values are very close to each other (0.99, 1.0, 10.4) and the consequence is that they will be displayed as a uniqum and not as single categories.  \n",
    "In order to avoid this problem we need to convert this numbers to categories that Python can recognise as such, this is why we converted them to str with the line:\n",
    "<span style=\"color:red\">categories.index = categories.index.astype(str).</span> \n",
    "\n",
    "This conversion is often needed, especially when:\n",
    "- Your x-axis values are numeric (like prices or years),\n",
    "- But you want to treat them as categories (like unique price points),\n",
    "- And you want a clean bar chart without merging or compression."
   ]
  },
  {
   "cell_type": "markdown",
   "id": "6b731d02-7f2e-4f8f-ad4a-180738c90d4c",
   "metadata": {},
   "source": [
    "🔷🔷🔷🔷🔷🔷🔷🔷🔷🔷🔷🔷🔷🔷🔷🔷🔷🔷🔷🔷🔷🔷🔷🔷🔷🔷🔷🔷🔷🔷🔷🔷🔷🔷🔷🔷🔷🔷🔷🔷🔷🔷🔷🔷🔷🔷🔷🔷🔷🔷🔷🔷🔷🔷🔷🔷🔷🔷🔷🔷🔷🔷🔷🔷🔷🔷🔷🔷🔷🔷🔷🔷🔷🔷🔷🔷🔷🔷"
   ]
  },
  {
   "cell_type": "markdown",
   "id": "239e5d4b-77fa-44c1-9400-e5d30992853a",
   "metadata": {},
   "source": [
    "#### Most present apps in google playstore"
   ]
  },
  {
   "cell_type": "markdown",
   "id": "6df4ea62-3753-420f-9cae-5e13476ab1a0",
   "metadata": {},
   "source": [
    "#### 1. Code version"
   ]
  },
  {
   "cell_type": "code",
   "execution_count": null,
   "id": "fcdc3199-7657-47e2-b9e4-bf358d8d405e",
   "metadata": {},
   "outputs": [],
   "source": [
    "df_copy[['Category']].value_counts().sort_values(ascending = False).head(10).reset_index(name = 'Count')"
   ]
  },
  {
   "cell_type": "code",
   "execution_count": null,
   "id": "e0acfba8-cfce-492d-befa-a1a8df066871",
   "metadata": {},
   "outputs": [],
   "source": [
    "df_copy[['Category']].mode()"
   ]
  },
  {
   "cell_type": "code",
   "execution_count": null,
   "id": "5b07f44b-3465-423e-8ad2-e37b50fc1a94",
   "metadata": {},
   "outputs": [],
   "source": [
    "df_copy[['Category']].value_counts().max()"
   ]
  },
  {
   "cell_type": "markdown",
   "id": "fe9f9f25-0500-4782-8b0f-8c6780108cb5",
   "metadata": {},
   "source": [
    "#### 2. Visual version"
   ]
  },
  {
   "cell_type": "code",
   "execution_count": null,
   "id": "0b443352-a6c1-4211-a0aa-aa6fc6ac26f3",
   "metadata": {},
   "outputs": [],
   "source": [
    "top_category = df_copy['Category'].value_counts()\n",
    "\n",
    "plt.figure(figsize = (15,16))\n",
    "plt.pie(top_category.values, labels=top_category.index,autopct='%1.1f')\n",
    "plt.show()"
   ]
  },
  {
   "cell_type": "code",
   "execution_count": null,
   "id": "1ff3a0bb-7dfd-451a-96e7-05e712453b63",
   "metadata": {},
   "outputs": [],
   "source": [
    "top_category = pd.DataFrame(df_copy['Category'].value_counts().reset_index())\n",
    "top_category.columns = ['Category', 'Count'] \n",
    "\n",
    "plt.figure(figsize = (15,6))\n",
    "sns.barplot(x='Category', y = 'Count', data = top_category[:10], palette = 'hls')\n",
    "plt.xticks(rotation = 45)\n",
    "plt.title('Top 10 app categories in google playstore')\n",
    "# plt.xlabel('')\n",
    "# plt.ylabel('Count of category')\n",
    "plt.tight_layout()\n",
    "plt.show()"
   ]
  },
  {
   "cell_type": "markdown",
   "id": "7186714f-fe12-40c3-be9a-3260648ed2ae",
   "metadata": {},
   "source": [
    "🔷🔷🔷🔷🔷🔷🔷🔷🔷🔷🔷🔷🔷🔷🔷🔷🔷🔷🔷🔷🔷🔷🔷🔷🔷🔷🔷🔷🔷🔷🔷🔷🔷🔷🔷🔷🔷🔷🔷🔷🔷🔷🔷🔷🔷🔷🔷🔷🔷🔷🔷🔷🔷🔷🔷🔷🔷🔷🔷🔷🔷🔷🔷🔷🔷🔷🔷🔷🔷🔷🔷🔷🔷🔷🔷🔷🔷🔷"
   ]
  },
  {
   "cell_type": "markdown",
   "id": "dabd6b88-abcc-49a2-9c9a-ee3d5d311f8a",
   "metadata": {},
   "source": [
    "### Which category has the largest number of installs?"
   ]
  },
  {
   "cell_type": "markdown",
   "id": "34ac1448-b5bc-4f01-8557-ed9439bc5c50",
   "metadata": {},
   "source": [
    "#### 1. Code version"
   ]
  },
  {
   "cell_type": "code",
   "execution_count": null,
   "id": "c0f44b76-3ff0-4e57-a5cb-9241689b5c46",
   "metadata": {},
   "outputs": [],
   "source": [
    "top_category_df = pd.DataFrame(df_copy.groupby('Category')['Installs'].sum())\n",
    "top_category_df.sort_values('Installs', ascending = False)"
   ]
  },
  {
   "cell_type": "code",
   "execution_count": null,
   "id": "1a97f859-4b50-4ed8-8d14-fc1d709555f1",
   "metadata": {},
   "outputs": [],
   "source": [
    "top_category_df = pd.DataFrame(df_copy.groupby('Category')['Installs'].sum().sort_values(ascending =False).head(5))\n",
    "top_category_df"
   ]
  },
  {
   "cell_type": "code",
   "execution_count": null,
   "id": "9bbc29c2-42f9-40da-9549-6c19f7d5ba8a",
   "metadata": {},
   "outputs": [],
   "source": [
    "df_copy.groupby('Category')['Installs'].sum().sort_values( ascending = False).to_frame().head(1)"
   ]
  },
  {
   "cell_type": "markdown",
   "id": "45f9b01a-0628-45f3-8a9d-e6558e91a74c",
   "metadata": {},
   "source": [
    "🔷🔷🔷🔷🔷🔷🔷🔷🔷🔷🔷🔷🔷🔷🔷🔷🔷🔷🔷🔷🔷🔷🔷🔷🔷🔷🔷🔷🔷🔷🔷🔷🔷🔷🔷🔷🔷🔷🔷🔷🔷🔷🔷🔷🔷🔷🔷🔷🔷🔷🔷🔷🔷🔷🔷🔷🔷🔷🔷🔷🔷🔷🔷🔷🔷🔷🔷🔷🔷🔷🔷🔷🔷🔷🔷🔷🔷🔷"
   ]
  },
  {
   "cell_type": "markdown",
   "id": "55836d7f-49db-4a54-8e55-8b66023fc318",
   "metadata": {},
   "source": [
    "#### 2. Visualization"
   ]
  },
  {
   "cell_type": "code",
   "execution_count": null,
   "id": "408639c2-34fb-4409-8b10-4c1bdb6647d5",
   "metadata": {},
   "outputs": [],
   "source": [
    "top_installs = df_copy.groupby('Category')['Installs'].sum().sort_values(ascending = False).head(20)\n",
    "\n",
    "\n",
    "plt.figure(figsize=(15,16))\n",
    "plt.pie(top_installs.values, labels = top_installs.index,autopct = \"%1.1f%%\",\n",
    "        labeldistance=1.15,\n",
    "        pctdistance=0.75)\n",
    "\n",
    "plt.show()"
   ]
  },
  {
   "cell_type": "code",
   "execution_count": null,
   "id": "28d88698-2c6f-400d-8c7e-6efc86e99db7",
   "metadata": {},
   "outputs": [],
   "source": [
    "installs = df_copy.groupby('Category')['Installs'].sum().sort_values(ascending = False).head(10)\n",
    "\n",
    "\n",
    "\n",
    "norm = plt.Normalize(installs.min(), installs.max())\n",
    "colors = cm.coolwarm(norm(installs)) \n",
    "plt.figure(figsize = (10,4))\n",
    "plt.bar(installs.index, installs.values, color=colors)\n",
    "plt.xticks(rotation=90)\n",
    "\n",
    "plt.show()"
   ]
  },
  {
   "cell_type": "code",
   "execution_count": null,
   "id": "880f684f-1a46-49d8-b4aa-adab8e26e74f",
   "metadata": {},
   "outputs": [],
   "source": [
    "installs = df_copy.groupby('Category')['Installs'].sum().sort_values(ascending = False).reset_index()\n",
    "install_sorted = installs.head(10)\n",
    "\n",
    "palette = sns.color_palette('coolwarm', len(install_sorted))[::-1]\n",
    "plt.figure(figsize = (10,4))\n",
    "sns.barplot(x='Installs', y='Category', data = install_sorted, palette = palette)\n",
    "plt.xticks(rotation=90)\n",
    "plt.xlabel('Total Instal')\n",
    "plt.ylabel('Category')\n",
    "plt.title('Most Downladed Categories')\n",
    "plt.show()"
   ]
  },
  {
   "cell_type": "markdown",
   "id": "8f8f3230-a647-48a2-b067-34a6bedc7fb2",
   "metadata": {},
   "source": [
    "🔷🔷🔷🔷🔷🔷🔷🔷🔷🔷🔷🔷🔷🔷🔷🔷🔷🔷🔷🔷🔷🔷🔷🔷🔷🔷🔷🔷🔷🔷🔷🔷🔷🔷🔷🔷🔷🔷🔷🔷🔷🔷🔷🔷🔷🔷🔷🔷🔷🔷🔷🔷🔷🔷🔷🔷🔷🔷🔷🔷🔷🔷🔷🔷🔷🔷🔷🔷🔷🔷🔷🔷🔷🔷🔷🔷🔷🔷"
   ]
  },
  {
   "cell_type": "markdown",
   "id": "beb0a48d-0dba-4706-b1b4-bbb0f159ca33",
   "metadata": {},
   "source": [
    "### What are the top 5 most installed apps in each popular category?"
   ]
  },
  {
   "cell_type": "markdown",
   "id": "d4f07a2b-3f38-44ac-945c-0452ad2b63cc",
   "metadata": {},
   "source": [
    "#### 1. Code version"
   ]
  },
  {
   "cell_type": "code",
   "execution_count": null,
   "id": "568df23b-7aa5-461e-be06-099124e45f7f",
   "metadata": {},
   "outputs": [],
   "source": [
    "\n",
    "top_categories = ['GAME', 'COMMUNICATION', 'PRODUCTIVITY', 'SOCIAL' ]\n",
    "\n",
    "top_apps = {}\n",
    "\n",
    "for item in top_categories:\n",
    "    top_apps[item] = df_copy[df_copy['Category']==item].groupby(['App'])['Installs'].sum().sort_values(ascending=False).head(5)\n",
    "\n",
    "\n",
    "\n",
    "\n",
    "df_top_apps = pd.concat(top_apps).reset_index()\n",
    "df_top_apps.columns = ['Category', 'App', 'Installs']\n",
    "df_top_apps"
   ]
  },
  {
   "cell_type": "code",
   "execution_count": null,
   "id": "0e569623-9d55-4f5b-8d59-6891a2d8e8d3",
   "metadata": {},
   "outputs": [],
   "source": [
    "top_category = ['GAME', 'COMMUNICATION', 'PRODUCTIVITY', 'SOCIAL' ]\n",
    "dfa = df_copy.groupby(['Category','App'])['Installs'].sum().reset_index()\n",
    "dfa = dfa.sort_values('Installs', ascending = False)\n",
    "top_apps=[]\n",
    "\n",
    "for item in top_category:\n",
    "    df2 = dfa[dfa['Category'] == item]\n",
    "    df3 = df2.head(5)\n",
    "    top_apps.append(df3)\n",
    "\n",
    "top_apps_df = pd.concat(top_apps, ignore_index=True)\n",
    "top_apps_df"
   ]
  },
  {
   "cell_type": "code",
   "execution_count": null,
   "id": "35341da7-6920-4a68-ba09-bcac40567a4b",
   "metadata": {},
   "outputs": [],
   "source": [
    "df_copy.info()"
   ]
  },
  {
   "cell_type": "markdown",
   "id": "efe176ab-599a-4bee-bdb1-dbc4439c0ea0",
   "metadata": {},
   "source": [
    "#### 2 Visualization"
   ]
  },
  {
   "cell_type": "code",
   "execution_count": null,
   "id": "3edfd1f9-c53e-4bc7-8b08-7a9739b655e8",
   "metadata": {},
   "outputs": [],
   "source": [
    "top_category = ['GAME', 'COMMUNICATION', 'PRODUCTIVITY', 'SOCIAL' ]\n",
    "dfa = df_copy.groupby(['Category','App'])['Installs'].sum().reset_index()\n",
    "dfa = dfa.sort_values('Installs', ascending = False)\n",
    "sns.set_context(\"poster\")\n",
    "sns.set_style(\"darkgrid\")\n",
    "\n",
    "plt.figure(figsize = (40,30))\n",
    "\n",
    "for i,item in enumerate(top_category):\n",
    "    df2 = dfa[dfa['Category'] == item]\n",
    "    df3 = df2.head(5)\n",
    "    ax = plt.subplot(4,2,i+1)\n",
    "    sns.barplot(df3, x='Installs', y='App', palette = 'coolwar_r')\n",
    "    plt.xlabel('Installs in milions')\n",
    "    plt.ylabel('')\n",
    "    ax.set_title(item)\n",
    "\n",
    "  \n",
    "\n",
    "\n",
    "plt.tight_layout()\n",
    "plt.subplots_adjust(hspace= .3)\n",
    "plt.show()"
   ]
  },
  {
   "cell_type": "markdown",
   "id": "61c52ced-8186-4850-a4a7-c1918865af8f",
   "metadata": {},
   "source": [
    "### How many apps are on google playstore that get 5 ratings?"
   ]
  },
  {
   "cell_type": "markdown",
   "id": "87e43e4d-f844-48c3-afd4-2096c29e1f76",
   "metadata": {},
   "source": [
    "Let's start by making sure that every app has only one rating"
   ]
  },
  {
   "cell_type": "code",
   "execution_count": null,
   "id": "ea28a2a4-0333-443f-9dee-ce3cd3fa3ae7",
   "metadata": {},
   "outputs": [],
   "source": [
    "df[['App','Rating']]"
   ]
  },
  {
   "cell_type": "markdown",
   "id": "4645dad8-db87-4c76-96ab-bc588c62299a",
   "metadata": {},
   "source": [
    "When can make sure that every app has only one rating by making sure that the total number of unique app is the same number of total rows for app."
   ]
  },
  {
   "cell_type": "code",
   "execution_count": null,
   "id": "7a15edab-a6dc-4bd1-a9d5-f6f2f00d3c85",
   "metadata": {},
   "outputs": [],
   "source": [
    "df_copy['App'].nunique()"
   ]
  },
  {
   "cell_type": "code",
   "execution_count": null,
   "id": "05705dd9-36f8-4ec8-8ff4-2c6008ba177c",
   "metadata": {},
   "outputs": [],
   "source": [
    "df_copy['App'].shape[0]"
   ]
  },
  {
   "cell_type": "markdown",
   "id": "61089b67-949a-4f29-951c-930beb6f21b4",
   "metadata": {},
   "source": [
    "🔷🔷🔷🔷🔷🔷🔷🔷🔷🔷🔷🔷🔷🔷🔷🔷🔷🔷🔷🔷🔷🔷🔷🔷🔷🔷🔷🔷🔷🔷🔷🔷🔷🔷🔷🔷🔷🔷🔷🔷🔷🔷🔷🔷🔷🔷🔷🔷🔷🔷🔷🔷🔷🔷🔷🔷🔷🔷🔷🔷🔷🔷🔷🔷🔷🔷🔷🔷🔷🔷🔷🔷🔷🔷🔷🔷🔷🔷"
   ]
  },
  {
   "cell_type": "markdown",
   "id": "2fc0fc97-bc1a-47b9-8c0d-293f418c2458",
   "metadata": {},
   "source": [
    "#### 1. Code Version"
   ]
  },
  {
   "cell_type": "code",
   "execution_count": null,
   "id": "8197c2b3-570a-40ff-b6db-763ae4198269",
   "metadata": {},
   "outputs": [],
   "source": [
    "(df_copy['Rating'] == 5).sum()"
   ]
  },
  {
   "cell_type": "code",
   "execution_count": null,
   "id": "1d1c0b0a-6bee-4afb-b221-6cc213e878fe",
   "metadata": {},
   "outputs": [],
   "source": [
    "df_copy['Rating'].value_counts().sort_index(ascending = False).head(1)\n"
   ]
  },
  {
   "cell_type": "markdown",
   "id": "b8d239e8-0399-4b74-a54b-7356b5fb5add",
   "metadata": {},
   "source": [
    "🔷🔷🔷🔷🔷🔷🔷🔷🔷🔷🔷🔷🔷🔷🔷🔷🔷🔷🔷🔷🔷🔷🔷🔷🔷🔷🔷🔷🔷🔷🔷🔷🔷🔷🔷🔷🔷🔷🔷🔷🔷🔷🔷🔷🔷🔷🔷🔷🔷🔷🔷🔷🔷🔷🔷🔷🔷🔷🔷🔷🔷🔷🔷🔷🔷🔷🔷🔷🔷🔷🔷🔷🔷🔷🔷🔷🔷🔷"
   ]
  },
  {
   "cell_type": "code",
   "execution_count": null,
   "id": "649c853a-250c-4d84-8dc0-f6914fa3fc68",
   "metadata": {},
   "outputs": [],
   "source": [
    "my_dict = {x: x**2 for x in range(1,11)}\n",
    "print(my_dict)\n",
    "\n",
    "###\n",
    "#Inverrting keys and values from an existinf dictionary\n",
    "new_dict = {my_dict[key]:key for key in my_dict} \n",
    "print(new_dict)\n"
   ]
  },
  {
   "cell_type": "code",
   "execution_count": null,
   "id": "582f2f24-5f70-4579-827d-d76cfa3d0f0c",
   "metadata": {},
   "outputs": [],
   "source": []
  }
 ],
 "metadata": {
  "kernelspec": {
   "display_name": "Python 3 (ipykernel)",
   "language": "python",
   "name": "python3"
  },
  "language_info": {
   "codemirror_mode": {
    "name": "ipython",
    "version": 3
   },
   "file_extension": ".py",
   "mimetype": "text/x-python",
   "name": "python",
   "nbconvert_exporter": "python",
   "pygments_lexer": "ipython3",
   "version": "3.12.7"
  }
 },
 "nbformat": 4,
 "nbformat_minor": 5
}
